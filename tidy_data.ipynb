{
 "cells": [
  {
   "cell_type": "markdown",
   "id": "f8f88d08",
   "metadata": {},
   "source": [
    "## 1. Attendance Data\n",
    "\n",
    "Load the attendance.csv file and calculate an attendnace percentage for each student. One half day is worth 50% of a full day, and 10 tardies is equal to one absence."
   ]
  },
  {
   "cell_type": "markdown",
   "id": "354ac4ec",
   "metadata": {},
   "source": [
    "## 2. Coffee Levels\n",
    "    a. Read the coffee_levels.csv file.\n",
    "    b. Transform the data so that each carafe is in it's own column.\n",
    "    c. Is this the best shape for the data?"
   ]
  },
  {
   "cell_type": "markdown",
   "id": "4177348e",
   "metadata": {},
   "source": [
    "## 3. Cake Recipes\n",
    "\n",
    "    a. Read the cake_recipes.csv data. This data set contains cake tastiness scores for combinations of different recipes, oven rack positions, and oven temperatures.\n",
    "    b. Tidy the data as necessary.\n",
    "    c. Which recipe, on average, is the best? recipe b\n",
    "    d. Which oven temperature, on average, produces the best results? 275\n",
    "    e. Which combination of recipe, rack position, and temperature gives the best result? recipe b, bottom rack, 300 degrees"
   ]
  },
  {
   "cell_type": "code",
   "execution_count": null,
   "id": "883874fb",
   "metadata": {},
   "outputs": [],
   "source": []
  }
 ],
 "metadata": {
  "kernelspec": {
   "display_name": "Python 3",
   "language": "python",
   "name": "python3"
  },
  "language_info": {
   "codemirror_mode": {
    "name": "ipython",
    "version": 3
   },
   "file_extension": ".py",
   "mimetype": "text/x-python",
   "name": "python",
   "nbconvert_exporter": "python",
   "pygments_lexer": "ipython3",
   "version": "3.8.8"
  }
 },
 "nbformat": 4,
 "nbformat_minor": 5
}
