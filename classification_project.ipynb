{
 "cells": [
  {
   "cell_type": "code",
   "execution_count": 1,
   "id": "3fde4de1",
   "metadata": {},
   "outputs": [],
   "source": [
    "#libraries\n",
    "import acquire\n",
    "import explore\n",
    "import prepare\n",
    "import pandas as pd\n",
    "import numpy as np\n",
    "import seaborn as sns\n",
    "import matplotlib.pyplot as plt\n",
    "import scipy.stats as stats\n",
    "\n",
    "#ignore warnings\n",
    "import warnings\n",
    "warnings.filterwarnings('ignore')\n",
    "\n",
    "#sklearn imports\n",
    "from sklearn.model_selection import train_test_split\n",
    "from sklearn.tree import DecisionTreeClassifier\n",
    "from sklearn.tree import export_graphviz\n",
    "from sklearn.metrics import classification_report\n",
    "from sklearn.metrics import confusion_matrix\n",
    "from sklearn.ensemble import RandomForestClassifier\n",
    "from sklearn.neighbors import KNeighborsClassifier"
   ]
  },
  {
   "cell_type": "markdown",
   "id": "a9f8ffb7",
   "metadata": {},
   "source": [
    "# Planning"
   ]
  },
  {
   "cell_type": "markdown",
   "id": "70c81722",
   "metadata": {},
   "source": [
    "### Project description and Goals"
   ]
  },
  {
   "cell_type": "markdown",
   "id": "e9084814",
   "metadata": {},
   "source": [
    "### Working through the pipeline"
   ]
  },
  {
   "cell_type": "markdown",
   "id": "5df165e8",
   "metadata": {},
   "source": [
    "### Data dictionary"
   ]
  },
  {
   "cell_type": "markdown",
   "id": "51e6d2fe",
   "metadata": {},
   "source": [
    "m2m = month-to-month"
   ]
  },
  {
   "cell_type": "markdown",
   "id": "b86254b4",
   "metadata": {},
   "source": [
    "### Starting hypothesis"
   ]
  },
  {
   "cell_type": "markdown",
   "id": "e22096f6",
   "metadata": {},
   "source": [
    "# Data Acquisition"
   ]
  },
  {
   "cell_type": "markdown",
   "id": "bb0f6647",
   "metadata": {},
   "source": [
    "### SQL code used to acquire data from aquire.py"
   ]
  },
  {
   "cell_type": "markdown",
   "id": "bd621321",
   "metadata": {},
   "source": [
    "            SELECT *\\\n",
    "            FROM customers\\\n",
    "            RIGHT JOIN contract_types USING(contract_type_id)\\\n",
    "            RIGHT JOIN internet_service_types USING(internet_service_type_id)\\\n",
    "            RIGHT JOIN payment_types USING(payment_type_id);\""
   ]
  },
  {
   "cell_type": "markdown",
   "id": "c1d07884",
   "metadata": {},
   "source": [
    "### Notes:\n",
    "\n",
    "    - Data acquired from acquire.y module\n",
    "    - Data summarization\n",
    "    - Plot distributions"
   ]
  },
  {
   "cell_type": "code",
   "execution_count": 2,
   "id": "f97f5b50",
   "metadata": {},
   "outputs": [
    {
     "data": {
      "text/html": [
       "<div>\n",
       "<style scoped>\n",
       "    .dataframe tbody tr th:only-of-type {\n",
       "        vertical-align: middle;\n",
       "    }\n",
       "\n",
       "    .dataframe tbody tr th {\n",
       "        vertical-align: top;\n",
       "    }\n",
       "\n",
       "    .dataframe thead th {\n",
       "        text-align: right;\n",
       "    }\n",
       "</style>\n",
       "<table border=\"1\" class=\"dataframe\">\n",
       "  <thead>\n",
       "    <tr style=\"text-align: right;\">\n",
       "      <th></th>\n",
       "      <th>payment_type_id</th>\n",
       "      <th>payment_type</th>\n",
       "      <th>internet_service_type_id</th>\n",
       "      <th>internet_service_type</th>\n",
       "      <th>contract_type_id</th>\n",
       "      <th>contract_type</th>\n",
       "      <th>customer_id</th>\n",
       "      <th>gender</th>\n",
       "      <th>senior_citizen</th>\n",
       "      <th>partner</th>\n",
       "      <th>...</th>\n",
       "      <th>online_security</th>\n",
       "      <th>online_backup</th>\n",
       "      <th>device_protection</th>\n",
       "      <th>tech_support</th>\n",
       "      <th>streaming_tv</th>\n",
       "      <th>streaming_movies</th>\n",
       "      <th>paperless_billing</th>\n",
       "      <th>monthly_charges</th>\n",
       "      <th>total_charges</th>\n",
       "      <th>churn</th>\n",
       "    </tr>\n",
       "  </thead>\n",
       "  <tbody>\n",
       "    <tr>\n",
       "      <th>0</th>\n",
       "      <td>1</td>\n",
       "      <td>Electronic check</td>\n",
       "      <td>1</td>\n",
       "      <td>DSL</td>\n",
       "      <td>1</td>\n",
       "      <td>Month-to-month</td>\n",
       "      <td>0015-UOCOJ</td>\n",
       "      <td>Female</td>\n",
       "      <td>1</td>\n",
       "      <td>No</td>\n",
       "      <td>...</td>\n",
       "      <td>Yes</td>\n",
       "      <td>No</td>\n",
       "      <td>No</td>\n",
       "      <td>No</td>\n",
       "      <td>No</td>\n",
       "      <td>No</td>\n",
       "      <td>Yes</td>\n",
       "      <td>48.2</td>\n",
       "      <td>340.35</td>\n",
       "      <td>No</td>\n",
       "    </tr>\n",
       "    <tr>\n",
       "      <th>1</th>\n",
       "      <td>1</td>\n",
       "      <td>Electronic check</td>\n",
       "      <td>1</td>\n",
       "      <td>DSL</td>\n",
       "      <td>1</td>\n",
       "      <td>Month-to-month</td>\n",
       "      <td>0023-HGHWL</td>\n",
       "      <td>Male</td>\n",
       "      <td>1</td>\n",
       "      <td>No</td>\n",
       "      <td>...</td>\n",
       "      <td>No</td>\n",
       "      <td>No</td>\n",
       "      <td>No</td>\n",
       "      <td>No</td>\n",
       "      <td>No</td>\n",
       "      <td>No</td>\n",
       "      <td>Yes</td>\n",
       "      <td>25.1</td>\n",
       "      <td>25.1</td>\n",
       "      <td>Yes</td>\n",
       "    </tr>\n",
       "  </tbody>\n",
       "</table>\n",
       "<p>2 rows × 24 columns</p>\n",
       "</div>"
      ],
      "text/plain": [
       "   payment_type_id      payment_type  internet_service_type_id  \\\n",
       "0                1  Electronic check                         1   \n",
       "1                1  Electronic check                         1   \n",
       "\n",
       "  internet_service_type  contract_type_id   contract_type customer_id  gender  \\\n",
       "0                   DSL                 1  Month-to-month  0015-UOCOJ  Female   \n",
       "1                   DSL                 1  Month-to-month  0023-HGHWL    Male   \n",
       "\n",
       "   senior_citizen partner  ... online_security  online_backup  \\\n",
       "0               1      No  ...             Yes             No   \n",
       "1               1      No  ...              No             No   \n",
       "\n",
       "  device_protection tech_support streaming_tv streaming_movies  \\\n",
       "0                No           No           No               No   \n",
       "1                No           No           No               No   \n",
       "\n",
       "  paperless_billing monthly_charges total_charges churn  \n",
       "0               Yes            48.2        340.35    No  \n",
       "1               Yes            25.1          25.1   Yes  \n",
       "\n",
       "[2 rows x 24 columns]"
      ]
     },
     "execution_count": 2,
     "metadata": {},
     "output_type": "execute_result"
    }
   ],
   "source": [
    "#acquire telco data\n",
    "df = acquire.get_telco_data()\n",
    "df.head(2)"
   ]
  },
  {
   "cell_type": "markdown",
   "id": "ff22e0aa",
   "metadata": {},
   "source": [
    "# Data preparation"
   ]
  },
  {
   "cell_type": "markdown",
   "id": "e2b61c26",
   "metadata": {},
   "source": [
    "### Data prepared using the prepare.py module. The prepare module contains the following function:\n",
    "    - Splits data for train, validate, test\n",
    "    - Handles missing values\n",
    "    - Handles erroneous and outlier data\n",
    "    - Encodes necessary variables\n",
    "    - Creates necessary features"
   ]
  },
  {
   "cell_type": "markdown",
   "id": "509b2060",
   "metadata": {},
   "source": [
    "### Data prep notes:\n",
    "    - Explore missing values and document takeaways/action plans\n",
    "    - Explore data types and adapt types or data values as needed \n",
    "    - Create necessary new features\n",
    "    - Prep imported from prepare.py"
   ]
  },
  {
   "cell_type": "code",
   "execution_count": 3,
   "id": "11a0c811",
   "metadata": {},
   "outputs": [
    {
     "data": {
      "text/html": [
       "<div>\n",
       "<style scoped>\n",
       "    .dataframe tbody tr th:only-of-type {\n",
       "        vertical-align: middle;\n",
       "    }\n",
       "\n",
       "    .dataframe tbody tr th {\n",
       "        vertical-align: top;\n",
       "    }\n",
       "\n",
       "    .dataframe thead th {\n",
       "        text-align: right;\n",
       "    }\n",
       "</style>\n",
       "<table border=\"1\" class=\"dataframe\">\n",
       "  <thead>\n",
       "    <tr style=\"text-align: right;\">\n",
       "      <th></th>\n",
       "      <th>senior_citizen</th>\n",
       "      <th>tenure</th>\n",
       "      <th>monthly_charges</th>\n",
       "      <th>total_charges</th>\n",
       "      <th>bank_transfer</th>\n",
       "      <th>credit_card</th>\n",
       "      <th>e_check</th>\n",
       "      <th>check</th>\n",
       "      <th>dsl</th>\n",
       "      <th>fiber</th>\n",
       "      <th>...</th>\n",
       "      <th>two_year_contract</th>\n",
       "      <th>is_male</th>\n",
       "      <th>partner</th>\n",
       "      <th>multiple_lines</th>\n",
       "      <th>device_protection</th>\n",
       "      <th>tech_support</th>\n",
       "      <th>streaming_tv</th>\n",
       "      <th>streaming_movies</th>\n",
       "      <th>paperless</th>\n",
       "      <th>churned</th>\n",
       "    </tr>\n",
       "  </thead>\n",
       "  <tbody>\n",
       "    <tr>\n",
       "      <th>0</th>\n",
       "      <td>1</td>\n",
       "      <td>7</td>\n",
       "      <td>48.2</td>\n",
       "      <td>340.35</td>\n",
       "      <td>0</td>\n",
       "      <td>0</td>\n",
       "      <td>1</td>\n",
       "      <td>0</td>\n",
       "      <td>1</td>\n",
       "      <td>0</td>\n",
       "      <td>...</td>\n",
       "      <td>0</td>\n",
       "      <td>0</td>\n",
       "      <td>0</td>\n",
       "      <td>0</td>\n",
       "      <td>0</td>\n",
       "      <td>0</td>\n",
       "      <td>0</td>\n",
       "      <td>0</td>\n",
       "      <td>1</td>\n",
       "      <td>0</td>\n",
       "    </tr>\n",
       "  </tbody>\n",
       "</table>\n",
       "<p>1 rows × 34 columns</p>\n",
       "</div>"
      ],
      "text/plain": [
       "   senior_citizen  tenure  monthly_charges  total_charges  bank_transfer  \\\n",
       "0               1       7             48.2         340.35              0   \n",
       "\n",
       "   credit_card  e_check  check  dsl  fiber  ...  two_year_contract  is_male  \\\n",
       "0            0        1      0    1      0  ...                  0        0   \n",
       "\n",
       "   partner  multiple_lines  device_protection  tech_support  streaming_tv  \\\n",
       "0        0               0                  0             0             0   \n",
       "\n",
       "   streaming_movies  paperless  churned  \n",
       "0                 0          1        0  \n",
       "\n",
       "[1 rows x 34 columns]"
      ]
     },
     "execution_count": 3,
     "metadata": {},
     "output_type": "execute_result"
    }
   ],
   "source": [
    "#clean the data\n",
    "df = prepare.clean_data(df)\n",
    "df.head(1)"
   ]
  },
  {
   "cell_type": "code",
   "execution_count": 4,
   "id": "f0953619",
   "metadata": {},
   "outputs": [],
   "source": [
    "#split the date\n",
    "train, validate, test = prepare.train_validate_test_split(df, 'churned')"
   ]
  },
  {
   "cell_type": "code",
   "execution_count": 6,
   "id": "d44111d2",
   "metadata": {},
   "outputs": [
    {
     "name": "stdout",
     "output_type": "stream",
     "text": [
      "(3943, 34) (1691, 34) (1409, 34)\n"
     ]
    }
   ],
   "source": [
    "#validate the split\n",
    "print(train.shape, validate.shape, test.shape)"
   ]
  },
  {
   "cell_type": "code",
   "execution_count": 7,
   "id": "93bbd545",
   "metadata": {},
   "outputs": [],
   "source": [
    "# create X & y version of train, where y is a series with just the target variable and X are all the features.\n",
    "X_train = train.drop(columns=[\"churned\"])\n",
    "y_train = train.churned\n",
    "\n",
    "X_validate = validate.drop(columns=[\"churned\"])\n",
    "y_validate = validate.churned\n",
    "\n",
    "X_test = test.drop(columns=[\"churned\"])\n",
    "y_test = test.churned"
   ]
  },
  {
   "cell_type": "markdown",
   "id": "44c02d14",
   "metadata": {},
   "source": [
    "# Exploration & Analysis"
   ]
  },
  {
   "cell_type": "markdown",
   "id": "f1c883b1",
   "metadata": {},
   "source": [
    "### Analysis notes:\n",
    "    - Answers and document initial hypothesis using a minimum of two statistical tests.\n",
    "    - Visulizations\n",
    "    - Conclusion and takeaway summary"
   ]
  },
  {
   "cell_type": "markdown",
   "id": "54dc5628",
   "metadata": {},
   "source": [
    "### Exploration:\n",
    "    - If a group is identified by tenure, is there a cohort or cohorts who have a higher rate of churn than other cohorts?\n",
    "    - Are there features that indicate a higher propensity to churn\n",
    "    - Is there a price threshold for specific services where the likelihood of churn increases once price for those services goes past that point? If so, what is that point for what service(s)?\n",
    "    - If we looked at churn rate for month-to-month customers after the 12th month and that of 1-year contract customers after the 12th month, are those rates comparable?\n",
    "    - Controlling for services (phone_id, internet_service_type_id, online_security_backup, device_protection, tech_support, and contract_type_id), is the mean monthly_charges of those who have churned significantly different from that of those who have not churned? (Use a t-test to answer this.)\n",
    "    - How much of monthly_charges can be explained by internet_service_type?\n",
    "    - How much of monthly_charges can be explained by internet_service_type + phone_service_type (0, 1, or multiple lines)."
   ]
  },
  {
   "cell_type": "markdown",
   "id": "6e847769",
   "metadata": {},
   "source": [
    "# Modeling and Evaluation"
   ]
  },
  {
   "cell_type": "markdown",
   "id": "59c2094d",
   "metadata": {},
   "source": [
    "### Notes:\n",
    "    - Document baseline accuracy using three different models.\n",
    "    - Train (fit, transform, evaluate) multiple models, varying the algorithm and/or hyperparameters \n",
    "    - Compare evaluation metrics across all the models\n",
    "    - (Optional) Remove variables that provide limited to no additionl information\n",
    "    - Best model used with to test data.\n",
    "    - Final test model of out-of-sample data (the testing dataset)\n",
    "    - performance summarization, interpret, and document"
   ]
  },
  {
   "cell_type": "markdown",
   "id": "d15b9a29",
   "metadata": {},
   "source": [
    "# Delivery\n",
    "\n",
    "    - Summary of findings\n",
    "    - Analysis\n",
    "    - Conclusion including takeaways and recommendations"
   ]
  },
  {
   "cell_type": "code",
   "execution_count": null,
   "id": "eb602f8a",
   "metadata": {},
   "outputs": [],
   "source": []
  }
 ],
 "metadata": {
  "kernelspec": {
   "display_name": "Python 3",
   "language": "python",
   "name": "python3"
  },
  "language_info": {
   "codemirror_mode": {
    "name": "ipython",
    "version": 3
   },
   "file_extension": ".py",
   "mimetype": "text/x-python",
   "name": "python",
   "nbconvert_exporter": "python",
   "pygments_lexer": "ipython3",
   "version": "3.8.8"
  }
 },
 "nbformat": 4,
 "nbformat_minor": 5
}
