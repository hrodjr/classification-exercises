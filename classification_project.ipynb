{
 "cells": [
  {
   "cell_type": "markdown",
   "id": "a9f8ffb7",
   "metadata": {},
   "source": [
    "# Planning"
   ]
  },
  {
   "cell_type": "markdown",
   "id": "70c81722",
   "metadata": {},
   "source": [
    "### Project description and Goals"
   ]
  },
  {
   "cell_type": "markdown",
   "id": "e9084814",
   "metadata": {},
   "source": [
    "### Working through the pipeline"
   ]
  },
  {
   "cell_type": "markdown",
   "id": "5df165e8",
   "metadata": {},
   "source": [
    "### Data dictionary"
   ]
  },
  {
   "cell_type": "markdown",
   "id": "b86254b4",
   "metadata": {},
   "source": [
    "### Starting hypothesis"
   ]
  },
  {
   "cell_type": "markdown",
   "id": "e22096f6",
   "metadata": {},
   "source": [
    "# Data Acquisition"
   ]
  },
  {
   "cell_type": "markdown",
   "id": "bb0f6647",
   "metadata": {},
   "source": [
    "### SQL code used to acquire data from aquire.py"
   ]
  },
  {
   "cell_type": "markdown",
   "id": "c1d07884",
   "metadata": {},
   "source": [
    "### Notes:\n",
    "\n",
    "    - Data acquired from acquire.y module\n",
    "    - Data summarization\n",
    "    - Plot distributions"
   ]
  },
  {
   "cell_type": "markdown",
   "id": "ff22e0aa",
   "metadata": {},
   "source": [
    "# Data preparation"
   ]
  },
  {
   "cell_type": "markdown",
   "id": "e2b61c26",
   "metadata": {},
   "source": [
    "### Data prepared using the prepare.py module. The prepare module contains the following function:\n",
    "    - Splits data for train, validate, test\n",
    "    - Handles missing values\n",
    "    - Handles erroneous and outlier data\n",
    "    - Encodes necessary variables\n",
    "    - Creates necessary features"
   ]
  },
  {
   "cell_type": "markdown",
   "id": "509b2060",
   "metadata": {},
   "source": [
    "### Data prep notes:\n",
    "    - Explore missing values and document takeaways/action plans\n",
    "    - Explore data types and adapt types or data values as needed \n",
    "    - Create necessary new features\n",
    "    - Prep imported from prepare.py"
   ]
  },
  {
   "cell_type": "markdown",
   "id": "44c02d14",
   "metadata": {},
   "source": [
    "# Exploration & Analysis"
   ]
  },
  {
   "cell_type": "markdown",
   "id": "f1c883b1",
   "metadata": {},
   "source": [
    "### Analysis notes:\n",
    "    - Answers and document initial hypothesis using a minimum of two statistical tests.\n",
    "    - Visulizations\n",
    "    - Conclusion and takeaway summary"
   ]
  },
  {
   "cell_type": "markdown",
   "id": "54dc5628",
   "metadata": {},
   "source": [
    "### Exploration:\n",
    "    - If a group is identified by tenure, is there a cohort or cohorts who have a higher rate of churn than other cohorts?\n",
    "    - Are there features that indicate a higher propensity to churn\n",
    "    - Is there a price threshold for specific services where the likelihood of churn increases once price for those services goes past that point? If so, what is that point for what service(s)?\n",
    "    - If we looked at churn rate for month-to-month customers after the 12th month and that of 1-year contract customers after the 12th month, are those rates comparable?\n",
    "    - Controlling for services (phone_id, internet_service_type_id, online_security_backup, device_protection, tech_support, and contract_type_id), is the mean monthly_charges of those who have churned significantly different from that of those who have not churned? (Use a t-test to answer this.)\n",
    "    - How much of monthly_charges can be explained by internet_service_type?\n",
    "    - How much of monthly_charges can be explained by internet_service_type + phone_service_type (0, 1, or multiple lines)."
   ]
  },
  {
   "cell_type": "markdown",
   "id": "6e847769",
   "metadata": {},
   "source": [
    "# Modeling and Evaluation"
   ]
  },
  {
   "cell_type": "markdown",
   "id": "59c2094d",
   "metadata": {},
   "source": [
    "### Notes:\n",
    "    - Document baseline accuracy using three different models.\n",
    "    - Train (fit, transform, evaluate) multiple models, varying the algorithm and/or hyperparameters \n",
    "    - Compare evaluation metrics across all the models\n",
    "    - (Optional) Remove variables that provide limited to no additionl information\n",
    "    - Best model used with to test data.\n",
    "    - Final test model of out-of-sample data (the testing dataset)\n",
    "    - performance summarization, interpret, and document"
   ]
  },
  {
   "cell_type": "markdown",
   "id": "d15b9a29",
   "metadata": {},
   "source": [
    "# Delivery\n",
    "\n",
    "    - Summary of findings\n",
    "    - Analysis\n",
    "    - Conclusion including takeaways and recommendations"
   ]
  },
  {
   "cell_type": "code",
   "execution_count": null,
   "id": "eb602f8a",
   "metadata": {},
   "outputs": [],
   "source": []
  }
 ],
 "metadata": {
  "kernelspec": {
   "display_name": "Python 3",
   "language": "python",
   "name": "python3"
  },
  "language_info": {
   "codemirror_mode": {
    "name": "ipython",
    "version": 3
   },
   "file_extension": ".py",
   "mimetype": "text/x-python",
   "name": "python",
   "nbconvert_exporter": "python",
   "pygments_lexer": "ipython3",
   "version": "3.8.8"
  }
 },
 "nbformat": 4,
 "nbformat_minor": 5
}
