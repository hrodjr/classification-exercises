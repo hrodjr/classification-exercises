{
 "cells": [
  {
   "cell_type": "code",
   "execution_count": 1,
   "id": "81cf1d23",
   "metadata": {},
   "outputs": [],
   "source": [
    "#libraries\n",
    "import acquire\n",
    "import explore\n",
    "import prepare\n",
    "import pandas as pd\n",
    "import numpy as np\n",
    "import seaborn as sns\n",
    "import matplotlib.pyplot as plt\n",
    "import scipy.stats as stats\n",
    "\n",
    "#ignore warnings\n",
    "import warnings\n",
    "warnings.filterwarnings('ignore')\n",
    "\n",
    "#sklearn imports\n",
    "from sklearn.model_selection import train_test_split\n",
    "from sklearn.tree import DecisionTreeClassifier\n",
    "from sklearn.tree import export_graphviz\n",
    "from sklearn.metrics import classification_report\n",
    "from sklearn.metrics import confusion_matrix\n",
    "from sklearn.ensemble import RandomForestClassifier\n",
    "from sklearn.neighbors import KNeighborsClassifier"
   ]
  },
  {
   "cell_type": "code",
   "execution_count": 2,
   "id": "0de09ea1",
   "metadata": {
    "scrolled": true
   },
   "outputs": [
    {
     "data": {
      "text/html": [
       "<div>\n",
       "<style scoped>\n",
       "    .dataframe tbody tr th:only-of-type {\n",
       "        vertical-align: middle;\n",
       "    }\n",
       "\n",
       "    .dataframe tbody tr th {\n",
       "        vertical-align: top;\n",
       "    }\n",
       "\n",
       "    .dataframe thead th {\n",
       "        text-align: right;\n",
       "    }\n",
       "</style>\n",
       "<table border=\"1\" class=\"dataframe\">\n",
       "  <thead>\n",
       "    <tr style=\"text-align: right;\">\n",
       "      <th></th>\n",
       "      <th>payment_type_id</th>\n",
       "      <th>payment_type</th>\n",
       "      <th>internet_service_type_id</th>\n",
       "      <th>internet_service_type</th>\n",
       "      <th>contract_type_id</th>\n",
       "      <th>contract_type</th>\n",
       "      <th>customer_id</th>\n",
       "      <th>gender</th>\n",
       "      <th>senior_citizen</th>\n",
       "      <th>partner</th>\n",
       "      <th>...</th>\n",
       "      <th>online_security</th>\n",
       "      <th>online_backup</th>\n",
       "      <th>device_protection</th>\n",
       "      <th>tech_support</th>\n",
       "      <th>streaming_tv</th>\n",
       "      <th>streaming_movies</th>\n",
       "      <th>paperless_billing</th>\n",
       "      <th>monthly_charges</th>\n",
       "      <th>total_charges</th>\n",
       "      <th>churn</th>\n",
       "    </tr>\n",
       "  </thead>\n",
       "  <tbody>\n",
       "    <tr>\n",
       "      <th>0</th>\n",
       "      <td>1</td>\n",
       "      <td>Electronic check</td>\n",
       "      <td>1</td>\n",
       "      <td>DSL</td>\n",
       "      <td>1</td>\n",
       "      <td>Month-to-month</td>\n",
       "      <td>0015-UOCOJ</td>\n",
       "      <td>Female</td>\n",
       "      <td>1</td>\n",
       "      <td>No</td>\n",
       "      <td>...</td>\n",
       "      <td>Yes</td>\n",
       "      <td>No</td>\n",
       "      <td>No</td>\n",
       "      <td>No</td>\n",
       "      <td>No</td>\n",
       "      <td>No</td>\n",
       "      <td>Yes</td>\n",
       "      <td>48.2</td>\n",
       "      <td>340.35</td>\n",
       "      <td>No</td>\n",
       "    </tr>\n",
       "  </tbody>\n",
       "</table>\n",
       "<p>1 rows × 24 columns</p>\n",
       "</div>"
      ],
      "text/plain": [
       "   payment_type_id      payment_type  internet_service_type_id  \\\n",
       "0                1  Electronic check                         1   \n",
       "\n",
       "  internet_service_type  contract_type_id   contract_type customer_id  gender  \\\n",
       "0                   DSL                 1  Month-to-month  0015-UOCOJ  Female   \n",
       "\n",
       "   senior_citizen partner  ... online_security  online_backup  \\\n",
       "0               1      No  ...             Yes             No   \n",
       "\n",
       "  device_protection tech_support streaming_tv streaming_movies  \\\n",
       "0                No           No           No               No   \n",
       "\n",
       "  paperless_billing monthly_charges total_charges churn  \n",
       "0               Yes            48.2        340.35    No  \n",
       "\n",
       "[1 rows x 24 columns]"
      ]
     },
     "execution_count": 2,
     "metadata": {},
     "output_type": "execute_result"
    }
   ],
   "source": [
    "df = acquire.get_telco_data()\n",
    "df.head(1)"
   ]
  },
  {
   "cell_type": "code",
   "execution_count": 3,
   "id": "30360207",
   "metadata": {},
   "outputs": [
    {
     "data": {
      "text/html": [
       "<div>\n",
       "<style scoped>\n",
       "    .dataframe tbody tr th:only-of-type {\n",
       "        vertical-align: middle;\n",
       "    }\n",
       "\n",
       "    .dataframe tbody tr th {\n",
       "        vertical-align: top;\n",
       "    }\n",
       "\n",
       "    .dataframe thead th {\n",
       "        text-align: right;\n",
       "    }\n",
       "</style>\n",
       "<table border=\"1\" class=\"dataframe\">\n",
       "  <thead>\n",
       "    <tr style=\"text-align: right;\">\n",
       "      <th></th>\n",
       "      <th>senior_citizen</th>\n",
       "      <th>tenure</th>\n",
       "      <th>monthly_charges</th>\n",
       "      <th>total_charges</th>\n",
       "      <th>bank_transfer</th>\n",
       "      <th>credit_card</th>\n",
       "      <th>e_check</th>\n",
       "      <th>check</th>\n",
       "      <th>dsl</th>\n",
       "      <th>fiber</th>\n",
       "      <th>...</th>\n",
       "      <th>two_year_contract</th>\n",
       "      <th>is_male</th>\n",
       "      <th>partner</th>\n",
       "      <th>multiple_lines</th>\n",
       "      <th>device_protection</th>\n",
       "      <th>tech_support</th>\n",
       "      <th>streaming_tv</th>\n",
       "      <th>streaming_movies</th>\n",
       "      <th>paperless</th>\n",
       "      <th>churned</th>\n",
       "    </tr>\n",
       "  </thead>\n",
       "  <tbody>\n",
       "    <tr>\n",
       "      <th>0</th>\n",
       "      <td>1</td>\n",
       "      <td>7</td>\n",
       "      <td>48.2</td>\n",
       "      <td>340.35</td>\n",
       "      <td>0</td>\n",
       "      <td>0</td>\n",
       "      <td>1</td>\n",
       "      <td>0</td>\n",
       "      <td>1</td>\n",
       "      <td>0</td>\n",
       "      <td>...</td>\n",
       "      <td>0</td>\n",
       "      <td>0</td>\n",
       "      <td>0</td>\n",
       "      <td>0</td>\n",
       "      <td>0</td>\n",
       "      <td>0</td>\n",
       "      <td>0</td>\n",
       "      <td>0</td>\n",
       "      <td>1</td>\n",
       "      <td>0</td>\n",
       "    </tr>\n",
       "  </tbody>\n",
       "</table>\n",
       "<p>1 rows × 34 columns</p>\n",
       "</div>"
      ],
      "text/plain": [
       "   senior_citizen  tenure  monthly_charges  total_charges  bank_transfer  \\\n",
       "0               1       7             48.2         340.35              0   \n",
       "\n",
       "   credit_card  e_check  check  dsl  fiber  ...  two_year_contract  is_male  \\\n",
       "0            0        1      0    1      0  ...                  0        0   \n",
       "\n",
       "   partner  multiple_lines  device_protection  tech_support  streaming_tv  \\\n",
       "0        0               0                  0             0             0   \n",
       "\n",
       "   streaming_movies  paperless  churned  \n",
       "0                 0          1        0  \n",
       "\n",
       "[1 rows x 34 columns]"
      ]
     },
     "execution_count": 3,
     "metadata": {},
     "output_type": "execute_result"
    }
   ],
   "source": [
    "df = prepare.clean_data(df)\n",
    "df.head(1)"
   ]
  },
  {
   "cell_type": "code",
   "execution_count": 6,
   "id": "578e05c0",
   "metadata": {},
   "outputs": [],
   "source": [
    "train, validate, test = prepare.train_validate_test_split(df, 'churned')"
   ]
  },
  {
   "cell_type": "code",
   "execution_count": 8,
   "id": "02ebf450",
   "metadata": {},
   "outputs": [
    {
     "name": "stdout",
     "output_type": "stream",
     "text": [
      "(3943, 34) (1691, 34) (1409, 34)\n"
     ]
    }
   ],
   "source": [
    "print(train.shape, validate.shape, test.shape)"
   ]
  },
  {
   "cell_type": "code",
   "execution_count": null,
   "id": "dd04af4f",
   "metadata": {},
   "outputs": [],
   "source": [
    "#split data\n",
    "def train_validate_test_split(df, target, seed=123):\n",
    "    '''\n",
    "    This function takes in a dataframe, the name of the target variable\n",
    "    (for stratification purposes), and an integer for a setting a seed\n",
    "    and splits the data into train, validate and test. \n",
    "    Test is 20% of the original dataset, validate is .30*.80= 24% of the \n",
    "    original dataset, and train is .70*.80= 56% of the original dataset. \n",
    "    The function returns, in this order, train, validate and test dataframes. \n",
    "    '''\n",
    "    train_validate, test = train_test_split(df, test_size=0.2, \n",
    "                                            random_state=seed, \n",
    "                                            stratify=df[target])\n",
    "    train, validate = train_test_split(train_validate, test_size=0.3, \n",
    "                                       random_state=seed,\n",
    "                                       stratify=train_validate[target])\n",
    "    return train, validate, test"
   ]
  },
  {
   "cell_type": "code",
   "execution_count": null,
   "id": "50ee2284",
   "metadata": {},
   "outputs": [],
   "source": [
    "df = prepare.train_validate_test_split(df, 'churned')"
   ]
  },
  {
   "cell_type": "code",
   "execution_count": null,
   "id": "db6b1bb3",
   "metadata": {},
   "outputs": [],
   "source": [
    "#split into train, validate, test\n",
    "train, validate, test = train_validate_test_split()\n",
    "train.head(2)"
   ]
  },
  {
   "cell_type": "code",
   "execution_count": null,
   "id": "72443fa4",
   "metadata": {},
   "outputs": [],
   "source": [
    "print(train.shape, validate.shape, test.shape)"
   ]
  },
  {
   "cell_type": "code",
   "execution_count": null,
   "id": "6a8d288a",
   "metadata": {},
   "outputs": [],
   "source": [
    "# create X & y version of train, where y is a series with just the target variable and X are all the features.\n",
    "X_train = train.drop(columns=[\"churned\"])\n",
    "y_train = train.churned\n",
    "\n",
    "X_validate = validate.drop(columns=[\"churned\"])\n",
    "y_validate = validate.churned\n",
    "\n",
    "X_test = test.drop(columns=[\"churned\"])\n",
    "y_test = test.churned"
   ]
  },
  {
   "cell_type": "code",
   "execution_count": null,
   "id": "45ae45e6",
   "metadata": {},
   "outputs": [],
   "source": [
    "df.info()"
   ]
  },
  {
   "cell_type": "markdown",
   "id": "0d2c21f5",
   "metadata": {},
   "source": [
    "### This will be in the prepare module\n",
    "    _Check for and remove duplicates by customer_id. - None\n",
    "    \n",
    "    _Remove redundant columns: payment_type_id, internet_service_type_id, contract_type_id, & customer_id. - Completed\n",
    "        -Used the following to drop redundant columns\n",
    "        -df = df.drop(['payment_type_id', 'internet_service_type_id', 'contract_type_id', 'customer_id'], axis = 1)\n",
    "        -df.head(2)\n",
    "    \n",
    "    _Encode payment_type(Electronic check, Mailed check, Bank transfer (automatic), Credit card (automatic)), internet_service_type(DSL, Fiber, None), contract_type(Month-to-month, One year, Two year), gender(male/female), partner(yes/no), multiple_line(yes/no), device_protection(yes/no), tech_support(yes/no), streaming_tv(yes/no), streaming_movies(yes/no), paperless_billing, & churn (yes/no).\n",
    "    - gender is male(1) or not male(0)\n",
    "    - yes(1) no(0)\n",
    "    - payment, contract and service types (True = 1) (Fales = 0)\n",
    "    \n",
    "    _Check for nulls and fill (Fill in total_charges' blanks with 0). - Completed\n",
    "        -#find empty values. Tried isna, isnull, notna, notnull but did not shown any matches.\n",
    "            -df.eq(' ').sum()\n",
    "        -Used .replace to empty values with a 0 in total charges.\n",
    "            -df = df.replace({'total_charges': ' '}, 0)\n",
    "            -df.head()\n",
    "\n",
    "    _Convert total_charges to float64. - Completed\n",
    "        -#convert 'total_charges' to float and validate change.\n",
    "        - df['total_charges'] = df['total_charges'].astype(float)\n",
    "        - df.dtypes\n",
    "    \n",
    "    _Replace 'No phone service' & 'No internet service' with 'No'. - Completed\n",
    "        -df.replace(to_replace = 'No internet service', value = 'No')\n",
    "        -df.replace(to_replace = 'No phone service', value = 'No')"
   ]
  },
  {
   "cell_type": "code",
   "execution_count": null,
   "id": "26801a6e",
   "metadata": {},
   "outputs": [],
   "source": [
    "#Looking for unique values in \"types\"\n",
    "df.contract_type.unique()"
   ]
  },
  {
   "cell_type": "code",
   "execution_count": null,
   "id": "13ab23ad",
   "metadata": {},
   "outputs": [],
   "source": [
    "#check to see if there are any duplicates by 'customer_id'\n",
    "df.duplicated(subset = 'internet_service').unique()"
   ]
  },
  {
   "cell_type": "code",
   "execution_count": null,
   "id": "d892a42a",
   "metadata": {},
   "outputs": [],
   "source": [
    "#find empty values. Tried isna, isnull, notna, notnull but did not shown any matches.\n",
    "df.eq(' ').sum()"
   ]
  },
  {
   "cell_type": "code",
   "execution_count": null,
   "id": "1e13ce03",
   "metadata": {},
   "outputs": [],
   "source": [
    "#replaces empty values with a 0 in total charges.\n",
    "df = df.replace({'total_charges': ' '}, 0)\n",
    "df.head()"
   ]
  },
  {
   "cell_type": "code",
   "execution_count": null,
   "id": "0b406641",
   "metadata": {},
   "outputs": [],
   "source": [
    "#verify empty values in total_charges have been replace.\n",
    "df.eq(' ').sum()"
   ]
  },
  {
   "cell_type": "code",
   "execution_count": null,
   "id": "806dbfbf",
   "metadata": {},
   "outputs": [],
   "source": [
    "df = df.drop(['payment_type_id', 'internet_service_type_id', 'contract_type_id', 'customer_id'], axis = 1)\n",
    "df.head(2)"
   ]
  },
  {
   "cell_type": "code",
   "execution_count": null,
   "id": "85066876",
   "metadata": {},
   "outputs": [],
   "source": [
    "df.shape"
   ]
  },
  {
   "cell_type": "code",
   "execution_count": null,
   "id": "b12b1da0",
   "metadata": {},
   "outputs": [],
   "source": [
    "#convert 'total_charges' to float and validate change.\n",
    "df['total_charges'] = df['total_charges'].astype(float)\n",
    "df.dtypes"
   ]
  },
  {
   "cell_type": "code",
   "execution_count": null,
   "id": "f22d89c5",
   "metadata": {},
   "outputs": [],
   "source": [
    "df = df.replace(to_replace = 'No internet service', value = 'No')\n",
    "df"
   ]
  },
  {
   "cell_type": "code",
   "execution_count": null,
   "id": "21d33166",
   "metadata": {},
   "outputs": [],
   "source": [
    "df = df.replace(to_replace = 'No phone service', value = 'No')\n",
    "df"
   ]
  },
  {
   "cell_type": "markdown",
   "id": "beff1c48",
   "metadata": {},
   "source": [
    "# Encode"
   ]
  },
  {
   "cell_type": "code",
   "execution_count": null,
   "id": "734a39af",
   "metadata": {},
   "outputs": [],
   "source": [
    "#get_dummies creates a seperate df of booleans for the identified columns below. Cleaning for the decission tree.\n",
    "dummy_df = pd.get_dummies(df[['dependents','phone_service','online_security','online_backup','payment_type','internet_service_type','contract_type','gender','partner','multiple_lines','device_protection','tech_support','streaming_tv','streaming_movies','paperless_billing','churn']], dummy_na=False, drop_first=[True, True])\n",
    "#set 'drop_first' to 'False' to encode multiple types of the below listed columns.\n",
    "dummy_df_types = pd.get_dummies(df[['payment_type','internet_service_type','contract_type',]], dummy_na=False, drop_first=False)"
   ]
  },
  {
   "cell_type": "code",
   "execution_count": null,
   "id": "26134b4a",
   "metadata": {},
   "outputs": [],
   "source": [
    "#now drop the above two columns...\n",
    "df = df.drop(columns=['dependents','phone_service','online_security','online_backup','payment_type','internet_service_type','contract_type','gender','partner','multiple_lines','device_protection','tech_support','streaming_tv','streaming_movies','paperless_billing','churn'])\n",
    "#...and concatanate the dummies df with the prep's df.\n",
    "df = pd.concat([df, dummy_df, dummy_df_types], axis=1)\n",
    "df.head()"
   ]
  },
  {
   "cell_type": "markdown",
   "id": "9f71704e",
   "metadata": {},
   "source": [
    "# Split your data into train, validate, and test samples."
   ]
  },
  {
   "cell_type": "code",
   "execution_count": null,
   "id": "9e36b58a",
   "metadata": {},
   "outputs": [],
   "source": []
  }
 ],
 "metadata": {
  "kernelspec": {
   "display_name": "Python 3",
   "language": "python",
   "name": "python3"
  },
  "language_info": {
   "codemirror_mode": {
    "name": "ipython",
    "version": 3
   },
   "file_extension": ".py",
   "mimetype": "text/x-python",
   "name": "python",
   "nbconvert_exporter": "python",
   "pygments_lexer": "ipython3",
   "version": "3.8.8"
  }
 },
 "nbformat": 4,
 "nbformat_minor": 5
}
